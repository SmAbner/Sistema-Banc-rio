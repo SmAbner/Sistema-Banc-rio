{
  "nbformat": 4,
  "nbformat_minor": 0,
  "metadata": {
    "colab": {
      "provenance": [],
      "authorship_tag": "ABX9TyOUXO8zR5zTqHVYA/l4tMIu",
      "include_colab_link": true
    },
    "kernelspec": {
      "name": "python3",
      "display_name": "Python 3"
    },
    "language_info": {
      "name": "python"
    }
  },
  "cells": [
    {
      "cell_type": "markdown",
      "metadata": {
        "id": "view-in-github",
        "colab_type": "text"
      },
      "source": [
        "<a href=\"https://colab.research.google.com/github/SmAbner/Sistema-Banc-rio/blob/main/Untitled3.ipynb\" target=\"_parent\"><img src=\"https://colab.research.google.com/assets/colab-badge.svg\" alt=\"Open In Colab\"/></a>"
      ]
    },
    {
      "cell_type": "code",
      "execution_count": 1,
      "metadata": {
        "id": "KJQVKIGNrZOU"
      },
      "outputs": [],
      "source": [
        "!pip install -q -U google-generativeai"
      ]
    },
    {
      "cell_type": "code",
      "source": [
        "import google.generativeai as VirtualDoctor"
      ],
      "metadata": {
        "id": "NOJejveIri4F"
      },
      "execution_count": 16,
      "outputs": []
    },
    {
      "cell_type": "code",
      "source": [
        "from google.colab import userdata\n",
        "api_key = userdata.get(\"SECRET_KEY\")\n",
        "VirtualDoctor.configure(api_key=api_key)"
      ],
      "metadata": {
        "id": "wUsZoYXuHvo2"
      },
      "execution_count": 78,
      "outputs": []
    },
    {
      "cell_type": "code",
      "source": [
        "for m in DoctorVirtual.list_models():\n",
        "  if 'generateContent' in m.supported_generation_methods:\n",
        "    print(m.name)"
      ],
      "metadata": {
        "colab": {
          "base_uri": "https://localhost:8080/",
          "height": 139
        },
        "id": "V0XgzQLrr1hr",
        "outputId": "27b7a7ed-7ec1-4a42-de3f-a8974c1cd301"
      },
      "execution_count": 18,
      "outputs": [
        {
          "output_type": "stream",
          "name": "stdout",
          "text": [
            "models/gemini-1.0-pro\n",
            "models/gemini-1.0-pro-001\n",
            "models/gemini-1.0-pro-latest\n",
            "models/gemini-1.0-pro-vision-latest\n",
            "models/gemini-1.5-pro-latest\n",
            "models/gemini-pro\n",
            "models/gemini-pro-vision\n"
          ]
        }
      ]
    },
    {
      "cell_type": "code",
      "source": [
        "generation_config = {\n",
        "  \"candidate_count\": 1,\n",
        "  \"temperature\": 0.8,\n",
        "}"
      ],
      "metadata": {
        "id": "kNDr9KgHsCfu"
      },
      "execution_count": 19,
      "outputs": []
    },
    {
      "cell_type": "code",
      "source": [
        "safety_settings = {\n",
        "    'HATE': 'BLOCK_NONE',\n",
        "    'HARASSMENT': 'BLOCK_NONE',\n",
        "    'SEXUAL' : 'BLOCK_NONE',\n",
        "    'DANGEROUS' : 'BLOCK_NONE'\n",
        "    }"
      ],
      "metadata": {
        "id": "QJkR3bZ8sZdx"
      },
      "execution_count": 20,
      "outputs": []
    },
    {
      "cell_type": "code",
      "source": [
        "Model = VirtualDoctor.GenerativeModel(model_name='gemini-1.0-pro',\n",
        "                                  generation_config=generation_config,\n",
        "                                  safety_settings=safety_settings,)"
      ],
      "metadata": {
        "id": "xuj1cpBqshLv"
      },
      "execution_count": 10,
      "outputs": []
    },
    {
      "cell_type": "code",
      "source": [
        "chat = Model.start_chat(history=[])\n"
      ],
      "metadata": {
        "id": "zvLYJm9btGUV"
      },
      "execution_count": 13,
      "outputs": []
    },
    {
      "cell_type": "code",
      "source": [
        "# Prompting the user for input\n",
        "print('Olá, eu sou o VirtualDoctor especialista em tecnologia e carreira de sucesso')\n",
        "name = input('Gostaria de te conhecer melhor, qual o seu nome? ')\n",
        "print(f'É um prazer te conhecer, {name}!')\n",
        "\n",
        "age = input('Qual a sua idade? ')\n",
        "print(f'Que interessante, {name}!')\n",
        "\n",
        "profession = input('Qual sua profissão? ')\n",
        "print(f'Muito bem, {name}!')\n",
        "\n",
        "area_of_interest = input('Descreva qual dessas áreas você quer se aprofundar\\n1- Data Analytics\\n2- Data Science\\n3-Data Engineering\\n4- Dev')\n",
        "\n",
        "help_request = f'{name} quer se aprofundar em {area_of_interest}.'\n",
        "response = chat.send_message(help_request)\n",
        "\n",
        "print(\"Resposta:\", response.text, '\\n\\n')\n",
        "\n",
        "if area_of_interest == '1':\n",
        "  print('Data Analytics é o processo de extrair insights e conhecimento de dados brutos.')\n",
        "  print('Para saber mais, consulte a seguinte literatura:\\nhttps://www.analyticsvidhya.com/blog/2021/05/what-is-data-analytics-and-its-importance-in-2021/\\n')\n",
        "  print('Recomendamos os seguintes cursos e livros:\\n')\n",
        "  print('Cursos:')\n",
        "  print('- Coursera: Data Analytics Specialization\\n- edX: Data Science Essentials\\n')\n",
        "  print('Livros:')\n",
        "  print('- Data Analytics Made Accessible\\n- Data Analytics: With Python and R\\n')\n",
        "  print('Faculdades:')\n",
        "  print('- MIT: Master of Business Analytics\\n- Carnegie Mellon: Master of Science in Information Systems Management\\n')\n",
        "  print('Material Gratuito:')\n",
        "  print('- Kaggle: Data Science Competitions\\n- DataCamp: Free Introductory Courses\\n')\n",
        "\n",
        "elif area_of_interest == '2':\n",
        "  print('Data Science é uma área interdisciplinar que utiliza métodos estatísticos, matemáticos e computacionais para extrair insights e conhecimento de dados.')\n",
        "  print('Data Science is an interdisciplinary field that uses statistical, mathematical, and computational methods to extract insights and knowledge from data.')\n",
        "  print('To learn more, check out the following resources:\\n')\n",
        "  print('- Data Science Central: A community of data science professionals that provides articles, tutorials, and resources on data science topics.\\n')\n",
        "  print('  Link: <https://www.datasciencecentral.com/>\\n')\n",
        "  print('- Data Science Stack Exchange: A question-and-answer community for data science professionals and enthusiasts.\\n')\n",
        "  print('  Link: <https://datascience.stackexchange.com/>\\n')\n",
        "  print('Recommended Courses:')\n",
        "  print('- Coursera: Data Science Specialization by Johns Hopkins University\\n')\n",
        "  print('  Link: <https://www.coursera.org/specializations/jhu-data-science>\\n')\n",
        "  print('- edX: Professional Certificate in Data Science by IBM\\n')\n",
        "  print('  Link: <https://www.edx.org/professional-certificate/ibm-data-science>\\n')\n",
        "  print('- DataCamp: Interactive Data Science Courses\\n')\n",
        "  print('  Link: <https://www.datacamp.com/courses>\\n')\n",
        "  print('- Dataquest: Data Science Learning Path\\n')\n",
        "  print('  Link: <https://dataquest.io/path/data-scientist/>\\n')\n",
        "  print('- Google\\'s Data Analytics Professional Certificate\\n')\n",
        "  print('  Link: <https://www.coursera.org/professional-certificates/google-data-analytics>\\n')\n",
        "  print('- IBM\\'s Data Science Professional Certificate\\n')\n",
        "  print('  Link: <https://www.coursera.org/professional-certificates/ibm-data-science>\\n')\n",
        "  print('- Microsoft\\'s Data Science Professional Certificate\\n')\n",
        "  print('  Link: <https://www.edx.org/professional-certificate/microsoft-data-science>\\n')\n",
        "\n",
        "elif area_of_interest == '3':\n",
        "  print('Machine Learning is a subfield of artificial intelligence that focuses on developing algorithms that can learn from and make predictions or decisions based on data.')\n",
        "  print('To learn more, check out the following resources:\\n')\n",
        "  print('- Machine Learning Mastery: A blog and resource center for machine learning professionals and enthusiasts.\\n')\n",
        "  print('  Link: <https://machinelearningmastery.com/>\\n')\n",
        "  print('- Machine Learning Crash Course by Google: A free online course that covers the basics of machine learning.\\n')\n",
        "  print('  Link: <https://developers.google.com/machine-learning/crash-course/>\\n')\n",
        "  print('Recommended Books:')\n",
        "  print('- \"Hands-On Machine Learning with Scikit-Learn, Keras, and TensorFlow\" by Aurélien Géron\\n')\n",
        "  print('  Link: <https://www.oreilly.com/library/view/hands-on-machine-learning/9781492032632/>\\n')\n",
        "  print('- \"Deep Learning\" by Ian Goodfellow, Yoshua Bengio, and Aaron Courville\\n')\n",
        "  print('  Link: <https://www.deeplearningbook.org/>\\n')\n",
        "  print('- \"Python Machine Learning: Machine Learning and Deep Learning with Python, scikit-learn, and TensorFlow 2\" by Sebastian Raschka\\n')\n",
        "  print('  Link: <https://www.oreilly.com/library/view/python-machine-learning/9781800567709/>\\n')\n",
        "  print('Recommended Courses:')\n",
        "  print('- Coursera: Machine Learning by Andrew Ng\\n')\n",
        "  print('  Link: <https://www.coursera.org/learn/machine-learning>\\n')\n",
        "  print('- edX: Principles of Machine Learning by Microsoft\\n')\n",
        "  print('  Link: <https://www.edx.org/professional-certificate/principles-of-machine-learning>\\n')\n",
        "  print('- DataCamp: Machine Learning in Python\\n')\n",
        "  print('  Link: <https://www.datacamp.com/courses/machine-learning-in-python>\\n')\n",
        "  print('- Dataquest: Machine Learning Path\\n')\n",
        "  print('  Link: <https://dataquest.io/path/machine-learning/>\\n')\n",
        "  print('- Udacity: Machine Learning Engineer Nanodegree\\n')\n",
        "  print('  Link: <https://www.udacity.com/course/machine-learning-engineer-nanodegree--nd025>\\n')\n",
        "\n",
        "elif area_of_interest == '4':\n",
        "  print('Artificial Intelligence (AI) is a field of computer science that focuses on creating intelligent machines that can think and learn like humans.')\n",
        "  print('To learn more, check out the following resources:\\n')\n",
        "  print('- AI Mavericks: A blog and resource center for AI professionals and enthusiasts.\\n')\n",
        "  print('  Link: <https://aimavericks.com/>\\n')\n",
        "  print('- AI Crash Course by Sentdex: A free online course that covers the basics of AI and machine learning.\\n')\n",
        "  print('  Link: <https://pythonprogramming.net/ai-crash-course/>\\n')\n",
        "  print('Recommended Books:')\n",
        "  print('- \"Artificial Intelligence: A Modern Approach\" by Stuart Russell and Peter Norvig\\n')\n",
        "  print('  Link: <https://www.amazon.com/Artificial-Intelligence-Modern-Approach-4th/dp/0136042597/>\\n')\n",
        "  print('- \"Hands-On Machine Learning with Scikit-Learn, Keras, and TensorFlow\" by Aurélien Géron\\n')\n",
        "  print('  Link: <https://www.oreilly.com/library/view/hands-on-machine-learning/9781492032632/>\\n')\n",
        "  print('- \"Python Machine Learning: Machine Learning and Deep Learning with Python, scikit-learn, and TensorFlow 2\" by Sebastian Raschka\\n')\n",
        "  print('  Link: <https://www.oreilly.com/library/view/python-machine-learning/9781800567709/>\\n')\n",
        "  print('Recommended Courses:')\n",
        "  print('- Coursera: AI for Everyone by IBM\\n')\n",
        "  print('  Link: <https://www.coursera.org/learn/ai-for-everyone>\\n')\n",
        "  print('- edX: Artificial Intelligence MicroMasters by Columbia University\\n')\n",
        "  print('  Link: <https://www.edx.org/micromasters/columbiax-artificial-intelligence>\\n')\n",
        "  print('- DataCamp: Introduction to Artificial Intelligence with Python\\n')\n",
        "  print('  Link: <https://www.datacamp.com/courses/introduction-to-artificial-intelligence-with-python>\\n')\n",
        "  print('- Dataquest: Artificial Intelligence Path\\n')\n",
        "  print('  Link: <https://dataquest.io/path/artificial-intelligence/>\\n')\n",
        "  print('- Udacity: AI Programming with Python Nanodegree\\n')\n",
        "  print('  Link: <https://www.udacity.com/course/ai-programming-with-python-nanodegree--nd022>\\n')\n",
        "\n",
        "while True:\n",
        "  while True:\n",
        "    area_of_interest = input('Descreva qual dessas áreas você quer se aprofundar\\n1- Data Analytics\\n2- Data Science\\n3-Data Engineering\\n4- Dev')\n",
        "\n",
        "    help_request = f'{name} quer se aprofundar em {area_of_interest}.'\n",
        "    response = chat.send_message(help_request)\n",
        "\n",
        "    print(\"Resposta:\", response.text, '\\n\\n')\n",
        "    need_help = input('Ainda precisa da minha ajuda? (sim/não) ')\n",
        "    if need_help.lower() == 'não':\n",
        "      break\n",
        "\n",
        "    if need_help.lower() == 'sim':\n",
        "      break\n",
        "\n",
        "  if need_help.lower() == 'não':\n",
        "    break\n"
      ],
      "metadata": {
        "id": "wXiTgeuetUH-"
      },
      "execution_count": null,
      "outputs": []
    }
  ]
}